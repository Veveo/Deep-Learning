{
 "cells": [
  {
   "cell_type": "code",
   "execution_count": 2,
   "metadata": {},
   "outputs": [],
   "source": [
    "from tensorflow import keras\n",
    "import numpy as np\n",
    "import pandas as pd\n",
    "import PIL\n",
    "from PIL import Image\n",
    "import os\n",
    "from os import path\n",
    "from keras.utils import np_utils\n",
    "from keras.datasets import cifar10\n",
    "from keras.models import Sequential\n",
    "from keras.layers import Conv2D, MaxPooling2D, Flatten, Dense, Dropout"
   ]
  },
  {
   "cell_type": "code",
   "execution_count": 3,
   "metadata": {},
   "outputs": [],
   "source": [
    "# Chargement du jeu de données :\n",
    "def load_signaux(dir):\n",
    "    img_list = []\n",
    "    class_counter = 0\n",
    "    class_list = []\n",
    "    for i in os.listdir(dir):\n",
    "        if (path.isdir(path.join(dir, i))):\n",
    "            for j in os.listdir(path.join(dir, i)):\n",
    "                if (j.endswith('.ppm')):\n",
    "                    class_list.append(class_counter)\n",
    "                    img_list.append(np.array(Image.open(os.path.join(os.path.join(dir, i), j)).resize((28, 28))))\n",
    "            class_counter += 1\n",
    "    return np.array(img_list), np.array(class_list)"
   ]
  },
  {
   "cell_type": "code",
   "execution_count": 4,
   "metadata": {},
   "outputs": [],
   "source": [
    "from sklearn.model_selection import train_test_split"
   ]
  },
  {
   "cell_type": "code",
   "execution_count": 5,
   "metadata": {},
   "outputs": [],
   "source": [
    "train_dir = \"Signaux/train\"\n",
    "test_dir = \"Signaux/test\""
   ]
  },
  {
   "cell_type": "code",
   "execution_count": 6,
   "metadata": {},
   "outputs": [],
   "source": [
    "X_train_full,y_train_full=load_signaux(train_dir)"
   ]
  },
  {
   "cell_type": "code",
   "execution_count": 7,
   "metadata": {},
   "outputs": [],
   "source": [
    "X_test,y_test = load_signaux(test_dir)"
   ]
  },
  {
   "cell_type": "code",
   "execution_count": 8,
   "metadata": {},
   "outputs": [
    {
     "data": {
      "text/plain": [
       "(4575, 28, 28, 3)"
      ]
     },
     "execution_count": 8,
     "metadata": {},
     "output_type": "execute_result"
    }
   ],
   "source": [
    "X_train_full.shape"
   ]
  },
  {
   "cell_type": "code",
   "execution_count": 9,
   "metadata": {},
   "outputs": [
    {
     "data": {
      "text/plain": [
       "(4575,)"
      ]
     },
     "execution_count": 9,
     "metadata": {},
     "output_type": "execute_result"
    }
   ],
   "source": [
    "y_train_full.shape"
   ]
  },
  {
   "cell_type": "code",
   "execution_count": 10,
   "metadata": {},
   "outputs": [
    {
     "data": {
      "text/plain": [
       "(2520, 28, 28, 3)"
      ]
     },
     "execution_count": 10,
     "metadata": {},
     "output_type": "execute_result"
    }
   ],
   "source": [
    "X_test.shape"
   ]
  },
  {
   "cell_type": "code",
   "execution_count": 11,
   "metadata": {},
   "outputs": [
    {
     "data": {
      "text/plain": [
       "(2520,)"
      ]
     },
     "execution_count": 11,
     "metadata": {},
     "output_type": "execute_result"
    }
   ],
   "source": [
    "y_test.shape"
   ]
  },
  {
   "cell_type": "code",
   "execution_count": 12,
   "metadata": {},
   "outputs": [],
   "source": [
    "# Normalisation de l'input\n",
    "X_train_full= X_train_full.astype('float32')\n",
    "X_test_full= X_test.astype('float32')\n",
    "X_train_full= X_train_full/ 255.0\n",
    "X_test_full= X_test/ 255.0"
   ]
  },
  {
   "cell_type": "code",
   "execution_count": 13,
   "metadata": {},
   "outputs": [],
   "source": [
    "# Categorical => like dummies\n",
    "y_train_full= np_utils.to_categorical(y_train_full)\n",
    "y_test_full= np_utils.to_categorical(y_test)\n"
   ]
  },
  {
   "cell_type": "code",
   "execution_count": 14,
   "metadata": {},
   "outputs": [],
   "source": [
    "X_train, X_val, y_train, y_val = train_test_split(X_train_full,\n",
    "                                                  y_train_full,\n",
    "                                                  test_size=0.25, \n",
    "                                                  random_state=42, \n",
    "                                                  stratify=y_train_full)"
   ]
  },
  {
   "cell_type": "code",
   "execution_count": 15,
   "metadata": {},
   "outputs": [
    {
     "name": "stdout",
     "output_type": "stream",
     "text": [
      "Model: \"sequential\"\n",
      "_________________________________________________________________\n",
      "Layer (type)                 Output Shape              Param #   \n",
      "=================================================================\n",
      "conv2d (Conv2D)              (None, 28, 28, 64)        3136      \n",
      "_________________________________________________________________\n",
      "dropout (Dropout)            (None, 28, 28, 64)        0         \n",
      "_________________________________________________________________\n",
      "average_pooling2d (AveragePo (None, 14, 14, 64)        0         \n",
      "_________________________________________________________________\n",
      "conv2d_1 (Conv2D)            (None, 14, 14, 32)        18464     \n",
      "_________________________________________________________________\n",
      "max_pooling2d (MaxPooling2D) (None, 7, 7, 32)          0         \n",
      "_________________________________________________________________\n",
      "flatten (Flatten)            (None, 1568)              0         \n",
      "_________________________________________________________________\n",
      "dense (Dense)                (None, 256)               401664    \n",
      "_________________________________________________________________\n",
      "dropout_1 (Dropout)          (None, 256)               0         \n",
      "_________________________________________________________________\n",
      "dense_1 (Dense)              (None, 256)               65792     \n",
      "_________________________________________________________________\n",
      "dense_2 (Dense)              (None, 62)                15934     \n",
      "=================================================================\n",
      "Total params: 504,990\n",
      "Trainable params: 504,990\n",
      "Non-trainable params: 0\n",
      "_________________________________________________________________\n",
      "None\n"
     ]
    }
   ],
   "source": [
    "num_classes= y_train_full.shape[1]\n",
    "\n",
    "# Creation du modele\n",
    "\n",
    "model = Sequential()\n",
    "model.add(Conv2D(64, (4, 4), input_shape=(28,28,3), padding='same', activation='relu'))\n",
    "model.add(Dropout(0.5))\n",
    "model.add(keras.layers.AveragePooling2D())\n",
    "model.add(Conv2D(32, (3, 3), activation='relu', padding='same'))\n",
    "model.add(MaxPooling2D(pool_size=(2, 2)))\n",
    "model.add(Flatten())\n",
    "model.add(Dense(256, activation='relu'))\n",
    "model.add(Dropout(0.5))\n",
    "model.add(Dense(256, activation='relu'))\n",
    "model.add(Dense(num_classes, activation='softmax'))\n",
    "\n",
    "# Compile model\n",
    "epochs= 20\n",
    "lrate= 0.001\n",
    "model.compile(loss='categorical_crossentropy', optimizer='adam', metrics=['accuracy'])\n",
    "print(model.summary())"
   ]
  },
  {
   "cell_type": "code",
   "execution_count": 167,
   "metadata": {},
   "outputs": [
    {
     "data": {
      "text/plain": [
       "'logs/fit/0119-135309'"
      ]
     },
     "execution_count": 167,
     "metadata": {},
     "output_type": "execute_result"
    }
   ],
   "source": [
    "import datetime\n",
    "Log_dir = \"logs/fit/\" + datetime.datetime.now().strftime(\"%m%d-%H%M%S\")\n",
    "Log_dir"
   ]
  },
  {
   "cell_type": "code",
   "execution_count": 168,
   "metadata": {},
   "outputs": [],
   "source": [
    "#Log_dir=os.path.dirname(Log_dir)\n",
    "\n",
    "callbacks = [\n",
    "keras.callbacks.TensorBoard(Log_dir),\n",
    "keras.callbacks.EarlyStopping(patience=5),\n",
    "keras.callbacks.ModelCheckpoint(\"signaux_model_\"+datetime.datetime.now().strftime(\"%m%d-%H%M%S\")+\".h5\", save_best_only=True),\n",
    "]"
   ]
  },
  {
   "cell_type": "code",
   "execution_count": 169,
   "metadata": {},
   "outputs": [
    {
     "name": "stdout",
     "output_type": "stream",
     "text": [
      "Epoch 1/40\n",
      "108/108 [==============================] - 7s 64ms/step - loss: 3.5963 - accuracy: 0.1421 - val_loss: 2.2836 - val_accuracy: 0.4449\n",
      "Epoch 2/40\n",
      "108/108 [==============================] - 6s 54ms/step - loss: 2.0719 - accuracy: 0.4762 - val_loss: 1.2961 - val_accuracy: 0.6879\n",
      "Epoch 3/40\n",
      "108/108 [==============================] - 6s 60ms/step - loss: 1.3928 - accuracy: 0.6061 - val_loss: 0.8242 - val_accuracy: 0.7622\n",
      "Epoch 4/40\n",
      "108/108 [==============================] - 6s 57ms/step - loss: 0.9524 - accuracy: 0.7030 - val_loss: 0.5711 - val_accuracy: 0.8383ss: - ETA: 0s - loss: 0.958\n",
      "Epoch 5/40\n",
      "108/108 [==============================] - 6s 58ms/step - loss: 0.7103 - accuracy: 0.7782 - val_loss: 0.4362 - val_accuracy: 0.8872\n",
      "Epoch 6/40\n",
      "108/108 [==============================] - 7s 65ms/step - loss: 0.4779 - accuracy: 0.8531 - val_loss: 0.3767 - val_accuracy: 0.8899\n",
      "Epoch 7/40\n",
      "108/108 [==============================] - 7s 63ms/step - loss: 0.4707 - accuracy: 0.8530 - val_loss: 0.2793 - val_accuracy: 0.9248\n",
      "Epoch 8/40\n",
      "108/108 [==============================] - 7s 67ms/step - loss: 0.4034 - accuracy: 0.8767 - val_loss: 0.2334 - val_accuracy: 0.93360.4047 - accuracy: \n",
      "Epoch 9/40\n",
      "108/108 [==============================] - 7s 63ms/step - loss: 0.3031 - accuracy: 0.9103 - val_loss: 0.2419 - val_accuracy: 0.9327s - loss: 0.2998 - accura - ETA: 1s - loss: 0.3012 - accura\n",
      "Epoch 10/40\n",
      "108/108 [==============================] - 7s 70ms/step - loss: 0.2747 - accuracy: 0.9154 - val_loss: 0.2294 - val_accuracy: 0.9283ETA: 3s - loss: 0.2819 - accu - ETA: 3s - loss: 0.2797 - ac - ETA: 1s\n",
      "Epoch 11/40\n",
      "108/108 [==============================] - 7s 67ms/step - loss: 0.2666 - accuracy: 0.9249 - val_loss: 0.1541 - val_accuracy: 0.9598\n",
      "Epoch 12/40\n",
      "108/108 [==============================] - 7s 64ms/step - loss: 0.2050 - accuracy: 0.9383 - val_loss: 0.1740 - val_accuracy: 0.9545\n",
      "Epoch 13/40\n",
      "108/108 [==============================] - 7s 65ms/step - loss: 0.2083 - accuracy: 0.9309 - val_loss: 0.1740 - val_accuracy: 0.9598s - ETA: 1s - loss: 0.2117 - ac - ETA: 0s - loss: 0\n",
      "Epoch 14/40\n",
      "108/108 [==============================] - 7s 66ms/step - loss: 0.1511 - accuracy: 0.9500 - val_loss: 0.1476 - val_accuracy: 0.9607\n",
      "Epoch 15/40\n",
      "108/108 [==============================] - 7s 65ms/step - loss: 0.1749 - accuracy: 0.9436 - val_loss: 0.1506 - val_accuracy: 0.96680.1765 - accuracy: 0.94 - ETA: 0s - loss: 0.1763 - accu - ETA: 0s - loss: 0.1754 - accuracy: 0.\n",
      "Epoch 16/40\n",
      "108/108 [==============================] - 7s 64ms/step - loss: 0.1244 - accuracy: 0.9582 - val_loss: 0.1461 - val_accuracy: 0.9607A: 3s - - ETA: 0s - l\n",
      "Epoch 17/40\n",
      "108/108 [==============================] - 7s 66ms/step - loss: 0.1583 - accuracy: 0.9448 - val_loss: 0.1498 - val_accuracy: 0.9607 0s -\n",
      "Epoch 18/40\n",
      "108/108 [==============================] - 8s 70ms/step - loss: 0.1193 - accuracy: 0.9614 - val_loss: 0.1240 - val_accuracy: 0.9720\n",
      "Epoch 19/40\n",
      "108/108 [==============================] - 7s 64ms/step - loss: 0.1010 - accuracy: 0.9703 - val_loss: 0.1051 - val_accuracy: 0.9694\n",
      "Epoch 20/40\n",
      "108/108 [==============================] - 7s 64ms/step - loss: 0.0968 - accuracy: 0.9716 - val_loss: 0.1367 - val_accuracy: 0.9659\n",
      "Epoch 21/40\n",
      "108/108 [==============================] - 6s 59ms/step - loss: 0.0958 - accuracy: 0.9692 - val_loss: 0.1035 - val_accuracy: 0.9781\n",
      "Epoch 22/40\n",
      "108/108 [==============================] - 7s 61ms/step - loss: 0.1355 - accuracy: 0.9617 - val_loss: 0.1153 - val_accuracy: 0.9720 2s - loss: 0.1523  - ETA: 1s - los - ETA: 0s - loss: 0.1361 - accuracy: 0. - ETA: 0s - loss: 0.1358 - accuracy: 0.96\n",
      "Epoch 23/40\n",
      "108/108 [==============================] - 6s 60ms/step - loss: 0.0984 - accuracy: 0.9702 - val_loss: 0.1035 - val_accuracy: 0.9773\n",
      "Epoch 24/40\n",
      "108/108 [==============================] - 7s 65ms/step - loss: 0.0867 - accuracy: 0.9691 - val_loss: 0.1182 - val_accuracy: 0.9764 2s - loss: 0.0842 - ac - ETA: 2s - loss: 0.0843 -  - ETA: 0s - loss: 0.0864 - accura\n",
      "Epoch 25/40\n",
      "108/108 [==============================] - 7s 65ms/step - loss: 0.0945 - accuracy: 0.9678 - val_loss: 0.1206 - val_accuracy: 0.9712\n",
      "Epoch 26/40\n",
      "108/108 [==============================] - 7s 65ms/step - loss: 0.0885 - accuracy: 0.9706 - val_loss: 0.0993 - val_accuracy: 0.9790\n",
      "Epoch 27/40\n",
      "108/108 [==============================] - 7s 65ms/step - loss: 0.0953 - accuracy: 0.9715 - val_loss: 0.1181 - val_accuracy: 0.9703s - loss: 0.0957 \n",
      "Epoch 28/40\n",
      "108/108 [==============================] - 7s 62ms/step - loss: 0.0839 - accuracy: 0.9727 - val_loss: 0.1178 - val_accuracy: 0.9764\n",
      "Epoch 29/40\n",
      "108/108 [==============================] - 7s 67ms/step - loss: 0.0680 - accuracy: 0.9783 - val_loss: 0.1053 - val_accuracy: 0.9781los - ETA: 0s - loss: 0.0680 - accura\n",
      "Epoch 30/40\n",
      "108/108 [==============================] - 7s 65ms/step - loss: 0.0836 - accuracy: 0.9728 - val_loss: 0.1169 - val_accuracy: 0.9781 0.97 - ETA: 0s - loss: 0.082\n",
      "Epoch 31/40\n",
      "108/108 [==============================] - 7s 64ms/step - loss: 0.0754 - accuracy: 0.9730 - val_loss: 0.0958 - val_accuracy: 0.9816\n",
      "Epoch 32/40\n",
      "108/108 [==============================] - 7s 63ms/step - loss: 0.0890 - accuracy: 0.9726 - val_loss: 0.1176 - val_accuracy: 0.9808\n",
      "Epoch 33/40\n",
      "108/108 [==============================] - 6s 59ms/step - loss: 0.0737 - accuracy: 0.9814 - val_loss: 0.1142 - val_accuracy: 0.9764\n",
      "Epoch 34/40\n",
      "108/108 [==============================] - 7s 62ms/step - loss: 0.0630 - accuracy: 0.9790 - val_loss: 0.1755 - val_accuracy: 0.9773\n",
      "Epoch 35/40\n",
      "108/108 [==============================] - 7s 65ms/step - loss: 0.0441 - accuracy: 0.9849 - val_loss: 0.1028 - val_accuracy: 0.9825\n",
      "Epoch 36/40\n",
      "108/108 [==============================] - 6s 59ms/step - loss: 0.0541 - accuracy: 0.9825 - val_loss: 0.0980 - val_accuracy: 0.9808\n"
     ]
    },
    {
     "data": {
      "text/plain": [
       "<tensorflow.python.keras.callbacks.History at 0x29a8e92c940>"
      ]
     },
     "execution_count": 169,
     "metadata": {},
     "output_type": "execute_result"
    }
   ],
   "source": [
    "model.fit(\n",
    "    X_train, y_train,\n",
    "    epochs=40,\n",
    "    validation_data=(X_val, y_val),\n",
    "    callbacks=callbacks\n",
    ")"
   ]
  },
  {
   "cell_type": "code",
   "execution_count": 170,
   "metadata": {},
   "outputs": [
    {
     "name": "stdout",
     "output_type": "stream",
     "text": [
      "79/79 [==============================] - 1s 7ms/step - loss: 0.2018 - accuracy: 0.9623\n"
     ]
    },
    {
     "data": {
      "text/plain": [
       "[0.20180675387382507, 0.9623016119003296]"
      ]
     },
     "execution_count": 170,
     "metadata": {},
     "output_type": "execute_result"
    }
   ],
   "source": [
    "model.evaluate(X_test_full,y_test_full)"
   ]
  },
  {
   "cell_type": "code",
   "execution_count": 73,
   "metadata": {},
   "outputs": [],
   "source": [
    "%load_ext tensorboard"
   ]
  },
  {
   "cell_type": "code",
   "execution_count": 74,
   "metadata": {},
   "outputs": [],
   "source": []
  },
  {
   "cell_type": "code",
   "execution_count": 83,
   "metadata": {},
   "outputs": [
    {
     "data": {
      "text/plain": [
       "(28, 28, 3)"
      ]
     },
     "execution_count": 83,
     "metadata": {},
     "output_type": "execute_result"
    }
   ],
   "source": [
    "X_test[0].shape"
   ]
  },
  {
   "cell_type": "code",
   "execution_count": 116,
   "metadata": {},
   "outputs": [
    {
     "data": {
      "text/plain": [
       "'logs/fit'"
      ]
     },
     "execution_count": 116,
     "metadata": {},
     "output_type": "execute_result"
    }
   ],
   "source": [
    "Log_dir=os.path.dirname(Log_dir)\n",
    "Log_dir"
   ]
  },
  {
   "cell_type": "code",
   "execution_count": 175,
   "metadata": {},
   "outputs": [],
   "source": [
    "model  = keras.models.load_model('signaux_model_0119-135310.h5')"
   ]
  },
  {
   "cell_type": "code",
   "execution_count": 176,
   "metadata": {},
   "outputs": [
    {
     "name": "stdout",
     "output_type": "stream",
     "text": [
      "Model: \"sequential_12\"\n",
      "_________________________________________________________________\n",
      "Layer (type)                 Output Shape              Param #   \n",
      "=================================================================\n",
      "conv2d_27 (Conv2D)           (None, 28, 28, 64)        3136      \n",
      "_________________________________________________________________\n",
      "dropout_20 (Dropout)         (None, 28, 28, 64)        0         \n",
      "_________________________________________________________________\n",
      "average_pooling2d_6 (Average (None, 14, 14, 64)        0         \n",
      "_________________________________________________________________\n",
      "conv2d_28 (Conv2D)           (None, 14, 14, 32)        18464     \n",
      "_________________________________________________________________\n",
      "max_pooling2d_14 (MaxPooling (None, 7, 7, 32)          0         \n",
      "_________________________________________________________________\n",
      "flatten_11 (Flatten)         (None, 1568)              0         \n",
      "_________________________________________________________________\n",
      "dense_31 (Dense)             (None, 256)               401664    \n",
      "_________________________________________________________________\n",
      "dropout_21 (Dropout)         (None, 256)               0         \n",
      "_________________________________________________________________\n",
      "dense_32 (Dense)             (None, 256)               65792     \n",
      "_________________________________________________________________\n",
      "dense_33 (Dense)             (None, 62)                15934     \n",
      "=================================================================\n",
      "Total params: 504,990\n",
      "Trainable params: 504,990\n",
      "Non-trainable params: 0\n",
      "_________________________________________________________________\n"
     ]
    }
   ],
   "source": [
    "model.summary()"
   ]
  },
  {
   "cell_type": "code",
   "execution_count": 187,
   "metadata": {},
   "outputs": [
    {
     "name": "stdout",
     "output_type": "stream",
     "text": [
      "INFO:tensorflow:Assets written to: model\\assets\n"
     ]
    }
   ],
   "source": [
    "model.save('model')"
   ]
  },
  {
   "cell_type": "code",
   "execution_count": 185,
   "metadata": {},
   "outputs": [
    {
     "name": "stderr",
     "output_type": "stream",
     "text": [
      "UsageError: Line magic function `%python` not found (But cell magic `%%python` exists, did you mean that instead?).\n"
     ]
    }
   ],
   "source": [
    "%python -v"
   ]
  },
  {
   "cell_type": "code",
   "execution_count": null,
   "metadata": {},
   "outputs": [],
   "source": []
  }
 ],
 "metadata": {
  "kernelspec": {
   "display_name": "Python 3",
   "language": "python",
   "name": "python3"
  },
  "language_info": {
   "codemirror_mode": {
    "name": "ipython",
    "version": 3
   },
   "file_extension": ".py",
   "mimetype": "text/x-python",
   "name": "python",
   "nbconvert_exporter": "python",
   "pygments_lexer": "ipython3",
   "version": "3.8.3"
  }
 },
 "nbformat": 4,
 "nbformat_minor": 4
}
