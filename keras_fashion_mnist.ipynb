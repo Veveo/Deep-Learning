{
 "cells": [
  {
   "cell_type": "markdown",
   "metadata": {},
   "source": [
    "## KERAS"
   ]
  },
  {
   "cell_type": "markdown",
   "metadata": {},
   "source": [
    "#### importation de keras"
   ]
  },
  {
   "cell_type": "code",
   "execution_count": 1,
   "metadata": {},
   "outputs": [],
   "source": [
    "from tensorflow import keras\n"
   ]
  },
  {
   "cell_type": "markdown",
   "metadata": {},
   "source": [
    "#### import du data set de zalando fashion_mnist (compris dans tensorflow)"
   ]
  },
  {
   "cell_type": "code",
   "execution_count": 2,
   "metadata": {},
   "outputs": [],
   "source": [
    "fashion_mnist=keras.datasets.fashion_mnist"
   ]
  },
  {
   "cell_type": "code",
   "execution_count": 3,
   "metadata": {},
   "outputs": [],
   "source": [
    "(X_train_full, y_train_full),(X_test,y_test)=fashion_mnist.load_data()"
   ]
  },
  {
   "cell_type": "markdown",
   "metadata": {},
   "source": [
    "##### Définiton de X_valid et X_train à partir de X_train_full"
   ]
  },
  {
   "cell_type": "code",
   "execution_count": 4,
   "metadata": {},
   "outputs": [],
   "source": [
    "X_valid,X_train = X_train_full[:5000],X_train_full[5000:]"
   ]
  },
  {
   "cell_type": "markdown",
   "metadata": {},
   "source": [
    "#### Définition de y_valid et y_train à partir de  y_train_full"
   ]
  },
  {
   "cell_type": "code",
   "execution_count": 5,
   "metadata": {},
   "outputs": [],
   "source": [
    "y_valid,y_train = y_train_full[:5000], y_train_full[5000:]"
   ]
  },
  {
   "cell_type": "markdown",
   "metadata": {},
   "source": [
    "#### VISUALISATION"
   ]
  },
  {
   "cell_type": "code",
   "execution_count": 6,
   "metadata": {},
   "outputs": [
    {
     "data": {
      "text/plain": [
       "(55000, 28, 28)"
      ]
     },
     "execution_count": 6,
     "metadata": {},
     "output_type": "execute_result"
    }
   ],
   "source": [
    "X_train.shape"
   ]
  },
  {
   "cell_type": "code",
   "execution_count": 7,
   "metadata": {},
   "outputs": [
    {
     "data": {
      "text/plain": [
       "array([[  0,   0,   0,   0,   0,   0,   0,   0,   0,   0,   0,   0,   0,\n",
       "          0,   0,   0,   0,   0,   0,   1,   0,   0,   0,   0,   0,   0,\n",
       "          0,   0],\n",
       "       [  0,   0,   0,   0,   0,   0,   0,   0,   0,   0,   0,  44, 127,\n",
       "        182, 185, 161, 120,  55,   0,   0,   0,   0,   0,   0,   0,   0,\n",
       "          0,   0],\n",
       "       [  0,   0,   0,   0,   0,   0,   0,   0,   0,  42, 198, 251, 255,\n",
       "        251, 249, 247, 255, 252, 214, 100,   0,   0,   0,   0,   0,   0,\n",
       "          0,   0],\n",
       "       [  0,   0,   0,   0,   0,   0,   2,   0,   0, 233, 252, 237, 239,\n",
       "        234, 237, 235, 237, 237, 254, 227,   0,   0,   0,   0,   1,   0,\n",
       "          0,   0],\n",
       "       [  0,   0,   0,   0,   0,   2,   0,   0,  16, 210, 225, 215, 175,\n",
       "        217, 216, 193, 196, 226, 221, 209,  50,   0,   0,   2,   0,   0,\n",
       "          0,   0],\n",
       "       [  0,   0,   0,   0,   2,   0,   0, 199, 229, 232, 230, 245, 204,\n",
       "        219, 253, 245, 207, 194, 223, 231, 236, 235,   0,   0,   3,   0,\n",
       "          0,   0],\n",
       "       [  0,   0,   0,   0,   1,   0, 137, 235, 204, 209, 201, 209, 234,\n",
       "        190, 234, 218, 215, 238, 239, 204, 189, 224, 154,   0,   0,   0,\n",
       "          0,   0],\n",
       "       [  0,   0,   0,   0,   0,   0, 194, 201, 200, 209, 202, 193, 205,\n",
       "        194, 183, 218, 231, 197, 172, 181, 193, 205, 199,   0,   0,   0,\n",
       "          0,   0],\n",
       "       [  0,   0,   0,   0,   0,   3, 212, 203, 188, 189, 196, 198, 198,\n",
       "        201, 196, 217, 179, 167, 183, 217, 197, 202, 219,  30,   0,   0,\n",
       "          0,   0],\n",
       "       [  0,   0,   0,   0,   0,  34, 225, 200, 194, 190, 188, 192, 196,\n",
       "        192, 170, 202, 190, 201, 195, 200, 201, 209, 227,  50,   0,   0,\n",
       "          0,   0],\n",
       "       [  0,   0,   0,   0,   0,  68, 225, 210, 211, 198, 192, 196, 204,\n",
       "        196, 181, 212, 197, 195, 192, 206, 220, 210, 229,  93,   0,   0,\n",
       "          0,   0],\n",
       "       [  0,   0,   0,   0,   0, 111, 223, 227, 253, 209, 196, 204, 211,\n",
       "        206, 183, 216, 206, 210, 203, 215, 244, 224, 227, 150,   0,   0,\n",
       "          0,   0],\n",
       "       [  0,   0,   0,   0,   0, 139, 225, 224, 255, 202, 206, 212, 209,\n",
       "        211, 190, 213, 202, 207, 206, 222, 255, 230, 220, 190,   0,   0,\n",
       "          0,   0],\n",
       "       [  0,   0,   0,   0,   0, 180, 226, 224, 255, 199, 204, 207, 214,\n",
       "        214, 190, 216, 206, 203, 205, 219, 243, 224, 214, 234,   0,   0,\n",
       "          0,   0],\n",
       "       [  0,   0,   0,   0,   0, 225, 223, 228, 254, 209, 206, 208, 213,\n",
       "        210, 191, 215, 207, 204, 208, 211, 249, 226, 214, 255,  38,   0,\n",
       "          0,   0],\n",
       "       [  0,   0,   0,   0,   0, 250, 232, 240, 239, 211, 203, 209, 205,\n",
       "        211, 197, 215, 208, 208, 214, 213, 239, 231, 219, 255,  81,   0,\n",
       "          0,   0],\n",
       "       [  0,   0,   0,   0,   0, 248, 236, 247, 240, 203, 200, 208, 206,\n",
       "        214, 193, 213, 212, 208, 212, 211, 243, 242, 225, 254,  66,   0,\n",
       "          0,   0],\n",
       "       [  0,   0,   0,   0,   0, 247, 230, 252, 226, 199, 211, 202, 211,\n",
       "        213, 182, 213, 212, 206, 202, 219, 207, 247, 222, 237, 104,   0,\n",
       "          0,   0],\n",
       "       [  0,   0,   0,   0,  10, 244, 219, 250, 205, 199, 209, 202, 209,\n",
       "        211, 189, 214, 206, 210, 200, 212, 154, 240, 208, 219, 140,   0,\n",
       "          0,   0],\n",
       "       [  0,   0,   0,   0,  21, 255, 222, 238, 184, 210, 192, 206, 209,\n",
       "        210, 189, 213, 211, 209, 192, 228, 155, 226, 238, 241, 166,   0,\n",
       "          0,   0],\n",
       "       [  0,   0,   0,   0,  37, 245, 226, 241, 150, 197, 189, 204, 209,\n",
       "        210, 183, 213, 213, 201, 184, 215, 146, 216, 236, 225, 154,   0,\n",
       "          0,   0],\n",
       "       [  0,   0,   0,   0,  58, 239, 227, 255, 158, 193, 195, 204, 209,\n",
       "        213, 180, 207, 217, 199, 194, 211, 158, 219, 236, 216, 151,   0,\n",
       "          0,   0],\n",
       "       [  0,   0,   0,   0,  68, 233, 226, 243, 139, 200, 193, 205, 210,\n",
       "        208, 180, 205, 212, 203, 196, 216, 157, 179, 255, 216, 155,   0,\n",
       "          0,   0],\n",
       "       [  0,   0,   0,   0,  81, 225, 224, 211, 138, 219, 185, 201, 213,\n",
       "        207, 197, 226, 212, 200, 190, 215, 183,  90, 255, 211, 147,   0,\n",
       "          0,   0],\n",
       "       [  0,   0,   0,   0,  91, 210, 230, 158, 114, 205, 187, 208, 209,\n",
       "        206, 193, 210, 211, 204, 195, 204, 181,  23, 255, 213, 158,   0,\n",
       "          0,   0],\n",
       "       [  0,   0,   0,   0,  87, 205, 232, 109, 164, 255, 214, 224, 222,\n",
       "        210, 197, 214, 225, 222, 211, 220, 217,   0, 234, 216, 169,   0,\n",
       "          0,   0],\n",
       "       [  0,   0,   0,   0,  92, 213, 232, 146,   5, 134, 151, 162, 170,\n",
       "        183, 182, 164, 166, 178, 162, 156,  98,   0, 240, 225, 210,   0,\n",
       "          0,   0],\n",
       "       [  0,   0,   0,   0,  43, 164, 206, 141,   0,   0,   0,   0,   0,\n",
       "          0,   0,   0,   0,   0,   0,   0,   0,   0, 127, 125,  76,   0,\n",
       "          0,   0]], dtype=uint8)"
      ]
     },
     "execution_count": 7,
     "metadata": {},
     "output_type": "execute_result"
    }
   ],
   "source": [
    "X_train[0]"
   ]
  },
  {
   "cell_type": "code",
   "execution_count": 8,
   "metadata": {},
   "outputs": [],
   "source": [
    "import matplotlib.pyplot as plt"
   ]
  },
  {
   "cell_type": "code",
   "execution_count": 9,
   "metadata": {},
   "outputs": [
    {
     "data": {
      "image/png": "[encoded data removed]",
      "text/plain": [
       "<Figure size 432x288 with 1 Axes>"
      ]
     },
     "metadata": {
      "needs_background": "light"
     },
     "output_type": "display_data"
    }
   ],
   "source": [
    "plt.imshow(X_train[0],cmap=\"binary\")\n",
    "plt.show()"
   ]
  },
  {
   "cell_type": "code",
   "execution_count": 10,
   "metadata": {},
   "outputs": [
    {
     "data": {
      "text/plain": [
       "array([4, 0, 7, ..., 3, 0, 5], dtype=uint8)"
      ]
     },
     "execution_count": 10,
     "metadata": {},
     "output_type": "execute_result"
    }
   ],
   "source": [
    "y_train"
   ]
  },
  {
   "cell_type": "code",
   "execution_count": 11,
   "metadata": {},
   "outputs": [],
   "source": [
    "class_names= [\"T-shirt/top\", \"Trouser\", \"Pullover\", \"Dress\", \"Coat\",\n",
    "\"Sandal\", \"Shirt\", \"Sneaker\", \"Bag\", \"Ankle boot\"]"
   ]
  },
  {
   "cell_type": "code",
   "execution_count": 12,
   "metadata": {},
   "outputs": [
    {
     "data": {
      "image/png": "[encoded data removed]",
      "text/plain": [
       "<Figure size 1008x576 with 50 Axes>"
      ]
     },
     "metadata": {
      "needs_background": "light"
     },
     "output_type": "display_data"
    }
   ],
   "source": [
    "n_rows= 5\n",
    "n_cols= 10\n",
    "plt.figure(figsize=(n_cols*1.4, n_rows* 1.6))\n",
    "for row in range(n_rows):\n",
    "    for col in range(n_cols):\n",
    "        index = n_cols* row+ col\n",
    "        plt.subplot(n_rows, n_cols, index + 1)\n",
    "        plt.imshow(X_train[index], cmap=\"binary\", interpolation=\"nearest\")\n",
    "        plt.axis('off')\n",
    "        plt.title(class_names[y_train[index]])\n",
    "plt.show()"
   ]
  },
  {
   "cell_type": "markdown",
   "metadata": {},
   "source": [
    "### Normalisation"
   ]
  },
  {
   "cell_type": "code",
   "execution_count": 13,
   "metadata": {},
   "outputs": [],
   "source": [
    "from sklearn.preprocessing import MinMaxScaler\n",
    "import numpy as np"
   ]
  },
  {
   "cell_type": "markdown",
   "metadata": {},
   "source": [
    "#### Instanciation du Min Max Scaler (Mieux que le standardScaler du cours)"
   ]
  },
  {
   "cell_type": "code",
   "execution_count": 14,
   "metadata": {},
   "outputs": [],
   "source": [
    "scaler = MinMaxScaler()"
   ]
  },
  {
   "cell_type": "markdown",
   "metadata": {},
   "source": [
    "#### Scale du X_train reshapé pour l'occasion (au format de accepté par le scaler)"
   ]
  },
  {
   "cell_type": "code",
   "execution_count": 15,
   "metadata": {},
   "outputs": [],
   "source": [
    "X_train_scaled = scaler.fit_transform(X_train.astype(np.float32).reshape(-1,1))"
   ]
  },
  {
   "cell_type": "markdown",
   "metadata": {},
   "source": [
    "#### Reshape au format initial 28x28 "
   ]
  },
  {
   "cell_type": "code",
   "execution_count": 16,
   "metadata": {},
   "outputs": [],
   "source": [
    "X_train_scaled = X_train_scaled.reshape(-1,28,28)"
   ]
  },
  {
   "cell_type": "markdown",
   "metadata": {},
   "source": [
    "#### même chose qu'au dessus"
   ]
  },
  {
   "cell_type": "code",
   "execution_count": 17,
   "metadata": {},
   "outputs": [],
   "source": [
    "X_valid_scaled= scaler.transform(X_valid.astype(np.float32).reshape(-1,1))"
   ]
  },
  {
   "cell_type": "code",
   "execution_count": 18,
   "metadata": {},
   "outputs": [],
   "source": [
    "X_valid_scaled = X_valid_scaled.reshape(-1,28,28)"
   ]
  },
  {
   "cell_type": "markdown",
   "metadata": {},
   "source": [
    "#### La même chose mais sur une ligne"
   ]
  },
  {
   "cell_type": "code",
   "execution_count": 19,
   "metadata": {},
   "outputs": [],
   "source": [
    "X_test_scaled= scaler.transform(X_test.astype(np.float32).reshape(-1, 1)).reshape(-1, 28, 28)"
   ]
  },
  {
   "cell_type": "markdown",
   "metadata": {},
   "source": [
    "## Instanciation"
   ]
  },
  {
   "cell_type": "code",
   "execution_count": 20,
   "metadata": {},
   "outputs": [],
   "source": [
    "model = keras.models.Sequential()"
   ]
  },
  {
   "cell_type": "code",
   "execution_count": 21,
   "metadata": {},
   "outputs": [],
   "source": [
    "model = keras.models.Sequential([\n",
    "keras.layers.Flatten(input_shape=[28, 28]),\n",
    "keras.layers.Dense(300, activation=\"relu\"),\n",
    "keras.layers.Dense(100, activation=\"relu\"),\n",
    "keras.layers.Dense(10, activation=\"softmax\")\n",
    "])"
   ]
  },
  {
   "cell_type": "code",
   "execution_count": 22,
   "metadata": {},
   "outputs": [
    {
     "name": "stdout",
     "output_type": "stream",
     "text": [
      "Model: \"sequential_1\"\n",
      "_________________________________________________________________\n",
      "Layer (type)                 Output Shape              Param #   \n",
      "=================================================================\n",
      "flatten (Flatten)            (None, 784)               0         \n",
      "_________________________________________________________________\n",
      "dense (Dense)                (None, 300)               235500    \n",
      "_________________________________________________________________\n",
      "dense_1 (Dense)              (None, 100)               30100     \n",
      "_________________________________________________________________\n",
      "dense_2 (Dense)              (None, 10)                1010      \n",
      "=================================================================\n",
      "Total params: 266,610\n",
      "Trainable params: 266,610\n",
      "Non-trainable params: 0\n",
      "_________________________________________________________________\n"
     ]
    }
   ],
   "source": [
    "model.summary()"
   ]
  },
  {
   "cell_type": "markdown",
   "metadata": {},
   "source": [
    "#### Instalation de pydot et graphviz dans le prompt"
   ]
  },
  {
   "cell_type": "code",
   "execution_count": 23,
   "metadata": {},
   "outputs": [],
   "source": [
    "#%conda install graphviz"
   ]
  },
  {
   "cell_type": "code",
   "execution_count": 24,
   "metadata": {},
   "outputs": [
    {
     "data": {
      "image/png": "[encoded data removed]",
      "text/plain": [
       "<IPython.core.display.Image object>"
      ]
     },
     "execution_count": 24,
     "metadata": {},
     "output_type": "execute_result"
    }
   ],
   "source": [
    "import pydot\n",
    "import graphviz\n",
    "keras.utils.plot_model(model)"
   ]
  },
  {
   "cell_type": "markdown",
   "metadata": {},
   "source": [
    "### COMPILATION"
   ]
  },
  {
   "cell_type": "code",
   "execution_count": 25,
   "metadata": {},
   "outputs": [],
   "source": [
    "model.compile(\n",
    "    loss=\"sparse_categorical_crossentropy\",\n",
    "    optimizer = \"sgd\",\n",
    "    metrics =[\"accuracy\"])"
   ]
  },
  {
   "cell_type": "code",
   "execution_count": 26,
   "metadata": {},
   "outputs": [],
   "source": [
    "import os"
   ]
  },
  {
   "cell_type": "code",
   "execution_count": 27,
   "metadata": {},
   "outputs": [],
   "source": [
    "Log_dir= os.path.dirname('/')"
   ]
  },
  {
   "cell_type": "code",
   "execution_count": 28,
   "metadata": {},
   "outputs": [],
   "source": [
    "callbacks = [\n",
    "keras.callbacks.TensorBoard(Log_dir),\n",
    "keras.callbacks.EarlyStopping(patience=5),\n",
    "keras.callbacks.ModelCheckpoint(\"my_mnist_model.h5\", save_best_only=True),\n",
    "]"
   ]
  },
  {
   "cell_type": "code",
   "execution_count": 29,
   "metadata": {},
   "outputs": [
    {
     "name": "stdout",
     "output_type": "stream",
     "text": [
      "Epoch 1/50\n",
      "1719/1719 [==============================] - 8s 4ms/step - loss: 1.0084 - accuracy: 0.6811 - val_loss: 0.4995 - val_accuracy: 0.8330\n",
      "Epoch 2/50\n",
      "1719/1719 [==============================] - 6s 3ms/step - loss: 0.5090 - accuracy: 0.8240 - val_loss: 0.4702 - val_accuracy: 0.8320\n",
      "Epoch 3/50\n",
      "1719/1719 [==============================] - 6s 3ms/step - loss: 0.4530 - accuracy: 0.8410 - val_loss: 0.4367 - val_accuracy: 0.8532\n",
      "Epoch 4/50\n",
      "1719/1719 [==============================] - 6s 4ms/step - loss: 0.4268 - accuracy: 0.8508 - val_loss: 0.4029 - val_accuracy: 0.8640\n",
      "Epoch 5/50\n",
      "1719/1719 [==============================] - 6s 4ms/step - loss: 0.4020 - accuracy: 0.8591 - val_loss: 0.3959 - val_accuracy: 0.8576\n",
      "Epoch 6/50\n",
      "1719/1719 [==============================] - 6s 4ms/step - loss: 0.3858 - accuracy: 0.8648 - val_loss: 0.3713 - val_accuracy: 0.8712\n",
      "Epoch 7/50\n",
      "1719/1719 [==============================] - 6s 4ms/step - loss: 0.3741 - accuracy: 0.8690 - val_loss: 0.3654 - val_accuracy: 0.8694.3741 - accuracy: 0.\n",
      "Epoch 8/50\n",
      "1719/1719 [==============================] - 6s 4ms/step - loss: 0.3573 - accuracy: 0.8743 - val_loss: 0.3567 - val_accuracy: 0.8758\n",
      "Epoch 9/50\n",
      "1719/1719 [==============================] - 6s 4ms/step - loss: 0.3473 - accuracy: 0.8783 - val_loss: 0.3515 - val_accuracy: 0.8744\n",
      "Epoch 10/50\n",
      "1719/1719 [==============================] - 6s 4ms/step - loss: 0.3378 - accuracy: 0.8803 - val_loss: 0.3381 - val_accuracy: 0.8836\n",
      "Epoch 11/50\n",
      "1719/1719 [==============================] - 6s 4ms/step - loss: 0.3232 - accuracy: 0.8830 - val_loss: 0.3303 - val_accuracy: 0.8822\n",
      "Epoch 12/50\n",
      "1719/1719 [==============================] - 6s 4ms/step - loss: 0.3253 - accuracy: 0.8828 - val_loss: 0.3327 - val_accuracy: 0.8808\n",
      "Epoch 13/50\n",
      "1719/1719 [==============================] - 6s 4ms/step - loss: 0.3186 - accuracy: 0.8851 - val_loss: 0.3328 - val_accuracy: 0.8854\n",
      "Epoch 14/50\n",
      "1719/1719 [==============================] - 6s 4ms/step - loss: 0.3077 - accuracy: 0.8903 - val_loss: 0.3329 - val_accuracy: 0.8822\n",
      "Epoch 15/50\n",
      "1719/1719 [==============================] - 6s 4ms/step - loss: 0.3013 - accuracy: 0.8935 - val_loss: 0.3142 - val_accuracy: 0.8886\n",
      "Epoch 16/50\n",
      "1719/1719 [==============================] - 6s 4ms/step - loss: 0.2986 - accuracy: 0.8931 - val_loss: 0.3309 - val_accuracy: 0.8794\n",
      "Epoch 17/50\n",
      "1719/1719 [==============================] - 6s 4ms/step - loss: 0.2930 - accuracy: 0.8942 - val_loss: 0.3125 - val_accuracy: 0.8894\n",
      "Epoch 18/50\n",
      "1719/1719 [==============================] - 6s 4ms/step - loss: 0.2836 - accuracy: 0.8983 - val_loss: 0.3156 - val_accuracy: 0.8874 ETA: 0s - loss:\n",
      "Epoch 19/50\n",
      "1719/1719 [==============================] - 6s 3ms/step - loss: 0.2827 - accuracy: 0.8976 - val_loss: 0.3088 - val_accuracy: 0.8880\n",
      "Epoch 20/50\n",
      "1719/1719 [==============================] - 6s 4ms/step - loss: 0.2747 - accuracy: 0.9017 - val_loss: 0.3426 - val_accuracy: 0.8744\n",
      "Epoch 21/50\n",
      "1719/1719 [==============================] - 6s 4ms/step - loss: 0.2704 - accuracy: 0.9020 - val_loss: 0.3016 - val_accuracy: 0.8910\n",
      "Epoch 22/50\n",
      "1719/1719 [==============================] - 6s 4ms/step - loss: 0.2658 - accuracy: 0.9031 - val_loss: 0.3155 - val_accuracy: 0.8862\n",
      "Epoch 23/50\n",
      "1719/1719 [==============================] - 6s 4ms/step - loss: 0.2621 - accuracy: 0.9047 - val_loss: 0.2984 - val_accuracy: 0.8958\n",
      "Epoch 24/50\n",
      "1719/1719 [==============================] - 6s 4ms/step - loss: 0.2523 - accuracy: 0.9101 - val_loss: 0.3230 - val_accuracy: 0.8830 - ETA: 3s -\n",
      "Epoch 25/50\n",
      "1719/1719 [==============================] - 6s 3ms/step - loss: 0.2482 - accuracy: 0.9103 - val_loss: 0.3002 - val_accuracy: 0.8934\n",
      "Epoch 26/50\n",
      "1719/1719 [==============================] - 6s 4ms/step - loss: 0.2420 - accuracy: 0.9135 - val_loss: 0.3006 - val_accuracy: 0.8866\n",
      "Epoch 27/50\n",
      "1719/1719 [==============================] - 6s 4ms/step - loss: 0.2422 - accuracy: 0.9122 - val_loss: 0.2979 - val_accuracy: 0.8946\n",
      "Epoch 28/50\n",
      "1719/1719 [==============================] - 6s 4ms/step - loss: 0.2366 - accuracy: 0.9135 - val_loss: 0.3070 - val_accuracy: 0.8906\n",
      "Epoch 29/50\n",
      "1719/1719 [==============================] - 6s 3ms/step - loss: 0.2381 - accuracy: 0.9147 - val_loss: 0.2999 - val_accuracy: 0.8928\n",
      "Epoch 30/50\n",
      "1719/1719 [==============================] - 6s 4ms/step - loss: 0.2309 - accuracy: 0.9161 - val_loss: 0.2896 - val_accuracy: 0.8974\n",
      "Epoch 31/50\n",
      "1719/1719 [==============================] - 6s 4ms/step - loss: 0.2283 - accuracy: 0.9162 - val_loss: 0.3173 - val_accuracy: 0.8908\n",
      "Epoch 32/50\n",
      "1719/1719 [==============================] - 6s 4ms/step - loss: 0.2252 - accuracy: 0.9194 - val_loss: 0.3086 - val_accuracy: 0.8912\n",
      "Epoch 33/50\n",
      "1719/1719 [==============================] - 6s 4ms/step - loss: 0.2144 - accuracy: 0.9228 - val_loss: 0.2909 - val_accuracy: 0.8958\n",
      "Epoch 34/50\n",
      "1719/1719 [==============================] - 6s 4ms/step - loss: 0.2151 - accuracy: 0.9225 - val_loss: 0.3017 - val_accuracy: 0.8904\n",
      "Epoch 35/50\n",
      "1719/1719 [==============================] - 6s 4ms/step - loss: 0.2134 - accuracy: 0.9241 - val_loss: 0.2988 - val_accuracy: 0.8918\n"
     ]
    }
   ],
   "source": [
    "historique = model.fit(\n",
    "    X_train_scaled, y_train,\n",
    "    epochs=50,\n",
    "    validation_data=(X_valid_scaled, y_valid),\n",
    "    callbacks=callbacks\n",
    ")"
   ]
  },
  {
   "cell_type": "markdown",
   "metadata": {},
   "source": [
    "### EVALUATION\n"
   ]
  },
  {
   "cell_type": "code",
   "execution_count": 30,
   "metadata": {},
   "outputs": [
    {
     "name": "stdout",
     "output_type": "stream",
     "text": [
      "157/157 [==============================] - 0s 2ms/step - loss: 0.2988 - accuracy: 0.8918: 0s - loss: 0.3065 - accuracy: 0.\n"
     ]
    },
    {
     "data": {
      "text/plain": [
       "[0.2987983524799347, 0.8917999863624573]"
      ]
     },
     "execution_count": 30,
     "metadata": {},
     "output_type": "execute_result"
    }
   ],
   "source": [
    "model.evaluate(X_valid_scaled,y_valid)\n"
   ]
  },
  {
   "cell_type": "code",
   "execution_count": 31,
   "metadata": {},
   "outputs": [
    {
     "name": "stdout",
     "output_type": "stream",
     "text": [
      "313/313 [==============================] - 1s 2ms/step - loss: 0.3455 - accuracy: 0.8800\n"
     ]
    },
    {
     "data": {
      "text/plain": [
       "[0.34548312425613403, 0.8799999952316284]"
      ]
     },
     "execution_count": 31,
     "metadata": {},
     "output_type": "execute_result"
    }
   ],
   "source": [
    "model.evaluate(X_test_scaled,y_test)"
   ]
  },
  {
   "cell_type": "markdown",
   "metadata": {},
   "source": [
    "#### Courbe d'apprentissage cf pdf"
   ]
  },
  {
   "cell_type": "markdown",
   "metadata": {},
   "source": [
    "pd.DataFrame(history.history).plot(figsize=(8, 5))\n",
    "plt.grid(True)\n",
    "plt.gca().set_ylim(0, 1)\n",
    "plt.show()"
   ]
  },
  {
   "cell_type": "code",
   "execution_count": null,
   "metadata": {},
   "outputs": [],
   "source": []
  }
 ],
 "metadata": {
  "kernelspec": {
   "display_name": "Python 3",
   "language": "python",
   "name": "python3"
  },
  "language_info": {
   "codemirror_mode": {
    "name": "ipython",
    "version": 3
   },
   "file_extension": ".py",
   "mimetype": "text/x-python",
   "name": "python",
   "nbconvert_exporter": "python",
   "pygments_lexer": "ipython3",
   "version": "3.8.3"
  }
 },
 "nbformat": 4,
 "nbformat_minor": 4
}
